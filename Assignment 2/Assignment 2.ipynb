{
 "cells": [
  {
   "cell_type": "markdown",
   "source": [
    "## Answers\r\n",
    "1) c\r\n",
    "2) b\r\n",
    "3) c\r\n",
    "4) b\r\n",
    "5) "
   ],
   "metadata": {}
  },
  {
   "cell_type": "code",
   "execution_count": 51,
   "source": [
    "#2)\r\n",
    "import math\r\n",
    "epsilon = 0.1\r\n",
    "delta = 0.05\r\n",
    "H = math.pow(3,3)\r\n",
    "m = 1/epsilon * (math.log(H) + math.log(1/delta))\r\n",
    "m"
   ],
   "outputs": [
    {
     "output_type": "execute_result",
     "data": {
      "text/plain": [
       "62.915691395583195"
      ]
     },
     "metadata": {},
     "execution_count": 51
    }
   ],
   "metadata": {}
  },
  {
   "cell_type": "code",
   "execution_count": 53,
   "source": [
    "import numpy as np\r\n",
    "import matplotlib.pyplot as plt\r\n",
    "from sklearn.datasets import make_blobs\r\n",
    "\r\n",
    "# ========================================================================\r\n",
    "# dataset\r\n",
    "\r\n",
    "n_tot = 200\r\n",
    "# two blobs, not completely separated\r\n",
    "X, y = make_blobs(n_tot, centers=2, cluster_std=3.0, random_state=2)\r\n",
    "\r\n",
    "plt.figure()\r\n",
    "colors = [\"g\", \"b\"]\r\n",
    "for ii in range(2):\r\n",
    "    class_indices = np.where(y==ii)[0]\r\n",
    "    plt.scatter(X[class_indices, 0], X[class_indices, 1], c=colors[ii])\r\n",
    "plt.title(\"full dataset\")\r\n",
    "plt.show()\r\n",
    "\r\n",
    "# divide data into training and testing\r\n",
    "# NOTE! Test data is not needed in solving the exercise\r\n",
    "# But it can be interesting to investigating how that behaves w.r.t. training set\r\n",
    "# performance and the bounds :)\r\n",
    "np.random.seed(42)\r\n",
    "order = np.random.permutation(n_tot)\r\n",
    "train = order[:100]\r\n",
    "# test = order[100:]\r\n",
    "\r\n",
    "Xtr = X[train, :]\r\n",
    "ytr = y[train]\r\n",
    "# Xtst = X[test, :]\r\n",
    "# ytst = y[test]\r\n",
    "\r\n",
    "# ========================================================================\r\n",
    "# classifier\r\n",
    "\r\n",
    "# The perceptron algorithm will be encountered later in the course\r\n",
    "# How exactly it works is not relevant yet, it's enough to just know it's a binary classifier\r\n",
    "from sklearn.linear_model import Perceptron as binary_classifier\r\n",
    "\r\n",
    "# # It can be used like this:\r\n",
    "# bc = binary_classifier()\r\n",
    "# bc.fit(Xtr, ytr)  # train the classifier on training data\r\n",
    "# preds = bc.predict(Xtst)  # predict with test data\r\n",
    "\r\n",
    "# ========================================================================\r\n",
    "# setup for analysing the Rademacher complexity\r\n",
    "\r\n",
    "# consider these sample sizes\r\n",
    "print_at_n = [20, 50, 100]\r\n",
    "# when analysing Rademacher complexity, take always n first samples from training set, n as in this array\r\n",
    "\r\n",
    "delta = 0.05\r\n",
    "\r\n",
    "# todo solution\r\n",
    "\r\n",
    "constant = []\r\n",
    "error = []\r\n",
    "rademacher = []\r\n",
    "\r\n",
    "\r\n",
    "from sklearn.metrics import mean_squared_error\r\n",
    "from sklearn.metrics import zero_one_loss \r\n",
    "import math\r\n",
    "\r\n",
    "for i in range(len(print_at_n)):\r\n",
    "    constant.append( 3 * math.sqrt(math.log(2/delta)/(2*print_at_n[i])) )\r\n",
    "    bc = binary_classifier()\r\n",
    "    bc.fit(Xtr[:print_at_n[i]], ytr[:print_at_n[i]])\r\n",
    "    preds = bc.predict(Xtr[:print_at_n[i]])\r\n",
    "    error.append( zero_one_loss(ytr[:print_at_n[i]], preds))\r\n",
    "    M = 1000\r\n",
    "    error_scrambled = []\r\n",
    "    for m in range(M+1):\r\n",
    "        y_scrambled = np.random.randint(2, size=print_at_n[i])\r\n",
    "        bc_scambled = binary_classifier()\r\n",
    "        bc_scambled.fit(Xtr[:print_at_n[i]], y_scrambled)\r\n",
    "        preds_scambled = bc_scambled.predict(Xtr[:print_at_n[i]])\r\n",
    "        error_scrambled.append( zero_one_loss(y_scrambled, preds_scambled)) \r\n",
    "    rademacher_complexity = 1/2 - 1/M*sum(error_scrambled)\r\n",
    "    rademacher.append(error[i] + rademacher_complexity + constant[i])\r\n",
    "rademacher\r\n",
    "\r\n",
    "plt.scatter(print_at_n,rademacher)\r\n",
    "plt.show()"
   ],
   "outputs": [
    {
     "output_type": "display_data",
     "data": {
      "image/png": "[encoded data removed]",
      "text/plain": [
       "<Figure size 432x288 with 1 Axes>"
      ]
     },
     "metadata": {
      "needs_background": "light"
     }
    },
    {
     "output_type": "error",
     "ename": "ValueError",
     "evalue": "Found input variables with inconsistent numbers of samples: [100, 200]",
     "traceback": [
      "\u001b[1;31m---------------------------------------------------------------------------\u001b[0m",
      "\u001b[1;31mValueError\u001b[0m                                Traceback (most recent call last)",
      "\u001b[1;32m<ipython-input-53-742148c5910f>\u001b[0m in \u001b[0;36m<module>\u001b[1;34m\u001b[0m\n\u001b[0;32m     75\u001b[0m         \u001b[0my_scrambled\u001b[0m \u001b[1;33m=\u001b[0m \u001b[0mnp\u001b[0m\u001b[1;33m.\u001b[0m\u001b[0mrandom\u001b[0m\u001b[1;33m.\u001b[0m\u001b[0mrandint\u001b[0m\u001b[1;33m(\u001b[0m\u001b[1;36m2\u001b[0m\u001b[1;33m,\u001b[0m \u001b[0msize\u001b[0m\u001b[1;33m=\u001b[0m\u001b[0mprint_at_n\u001b[0m\u001b[1;33m[\u001b[0m\u001b[0mi\u001b[0m\u001b[1;33m]\u001b[0m\u001b[1;33m)\u001b[0m\u001b[1;33m\u001b[0m\u001b[1;33m\u001b[0m\u001b[0m\n\u001b[0;32m     76\u001b[0m         \u001b[0mbc_scambled\u001b[0m \u001b[1;33m=\u001b[0m \u001b[0mbinary_classifier\u001b[0m\u001b[1;33m(\u001b[0m\u001b[1;33m)\u001b[0m\u001b[1;33m\u001b[0m\u001b[1;33m\u001b[0m\u001b[0m\n\u001b[1;32m---> 77\u001b[1;33m         \u001b[0mbc_scambled\u001b[0m\u001b[1;33m.\u001b[0m\u001b[0mfit\u001b[0m\u001b[1;33m(\u001b[0m\u001b[0mXtr\u001b[0m\u001b[1;33m[\u001b[0m\u001b[1;33m:\u001b[0m\u001b[0mprint_at_n\u001b[0m\u001b[1;33m[\u001b[0m\u001b[0mi\u001b[0m\u001b[1;33m]\u001b[0m\u001b[1;33m]\u001b[0m\u001b[1;33m,\u001b[0m \u001b[0my_scrambled\u001b[0m\u001b[1;33m)\u001b[0m\u001b[1;33m\u001b[0m\u001b[1;33m\u001b[0m\u001b[0m\n\u001b[0m\u001b[0;32m     78\u001b[0m         \u001b[0mpreds_scambled\u001b[0m \u001b[1;33m=\u001b[0m \u001b[0mbc_scambled\u001b[0m\u001b[1;33m.\u001b[0m\u001b[0mpredict\u001b[0m\u001b[1;33m(\u001b[0m\u001b[0mXtr\u001b[0m\u001b[1;33m[\u001b[0m\u001b[1;33m:\u001b[0m\u001b[0mprint_at_n\u001b[0m\u001b[1;33m[\u001b[0m\u001b[0mi\u001b[0m\u001b[1;33m]\u001b[0m\u001b[1;33m]\u001b[0m\u001b[1;33m)\u001b[0m\u001b[1;33m\u001b[0m\u001b[1;33m\u001b[0m\u001b[0m\n\u001b[0;32m     79\u001b[0m         \u001b[0merror_scrambled\u001b[0m\u001b[1;33m.\u001b[0m\u001b[0mappend\u001b[0m\u001b[1;33m(\u001b[0m \u001b[0mzero_one_loss\u001b[0m\u001b[1;33m(\u001b[0m\u001b[0my_scrambled\u001b[0m\u001b[1;33m,\u001b[0m \u001b[0mpreds_scambled\u001b[0m\u001b[1;33m)\u001b[0m\u001b[1;33m)\u001b[0m\u001b[1;33m\u001b[0m\u001b[1;33m\u001b[0m\u001b[0m\n",
      "\u001b[1;32mC:\\ProgramData\\Anaconda3\\lib\\site-packages\\sklearn\\linear_model\\stochastic_gradient.py\u001b[0m in \u001b[0;36mfit\u001b[1;34m(self, X, y, coef_init, intercept_init, sample_weight)\u001b[0m\n\u001b[0;32m    711\u001b[0m                          \u001b[0mloss\u001b[0m\u001b[1;33m=\u001b[0m\u001b[0mself\u001b[0m\u001b[1;33m.\u001b[0m\u001b[0mloss\u001b[0m\u001b[1;33m,\u001b[0m \u001b[0mlearning_rate\u001b[0m\u001b[1;33m=\u001b[0m\u001b[0mself\u001b[0m\u001b[1;33m.\u001b[0m\u001b[0mlearning_rate\u001b[0m\u001b[1;33m,\u001b[0m\u001b[1;33m\u001b[0m\u001b[1;33m\u001b[0m\u001b[0m\n\u001b[0;32m    712\u001b[0m                          \u001b[0mcoef_init\u001b[0m\u001b[1;33m=\u001b[0m\u001b[0mcoef_init\u001b[0m\u001b[1;33m,\u001b[0m \u001b[0mintercept_init\u001b[0m\u001b[1;33m=\u001b[0m\u001b[0mintercept_init\u001b[0m\u001b[1;33m,\u001b[0m\u001b[1;33m\u001b[0m\u001b[1;33m\u001b[0m\u001b[0m\n\u001b[1;32m--> 713\u001b[1;33m                          sample_weight=sample_weight)\n\u001b[0m\u001b[0;32m    714\u001b[0m \u001b[1;33m\u001b[0m\u001b[0m\n\u001b[0;32m    715\u001b[0m \u001b[1;33m\u001b[0m\u001b[0m\n",
      "\u001b[1;32mC:\\ProgramData\\Anaconda3\\lib\\site-packages\\sklearn\\linear_model\\stochastic_gradient.py\u001b[0m in \u001b[0;36m_fit\u001b[1;34m(self, X, y, alpha, C, loss, learning_rate, coef_init, intercept_init, sample_weight)\u001b[0m\n\u001b[0;32m    527\u001b[0m \u001b[1;33m\u001b[0m\u001b[0m\n\u001b[0;32m    528\u001b[0m         X, y = check_X_y(X, y, 'csr', dtype=np.float64, order=\"C\",\n\u001b[1;32m--> 529\u001b[1;33m                          accept_large_sparse=False)\n\u001b[0m\u001b[0;32m    530\u001b[0m \u001b[1;33m\u001b[0m\u001b[0m\n\u001b[0;32m    531\u001b[0m         \u001b[1;31m# labels can be encoded as float, int, or string literals\u001b[0m\u001b[1;33m\u001b[0m\u001b[1;33m\u001b[0m\u001b[1;33m\u001b[0m\u001b[0m\n",
      "\u001b[1;32mC:\\ProgramData\\Anaconda3\\lib\\site-packages\\sklearn\\utils\\validation.py\u001b[0m in \u001b[0;36mcheck_X_y\u001b[1;34m(X, y, accept_sparse, accept_large_sparse, dtype, order, copy, force_all_finite, ensure_2d, allow_nd, multi_output, ensure_min_samples, ensure_min_features, y_numeric, warn_on_dtype, estimator)\u001b[0m\n\u001b[0;32m    727\u001b[0m         \u001b[0my\u001b[0m \u001b[1;33m=\u001b[0m \u001b[0my\u001b[0m\u001b[1;33m.\u001b[0m\u001b[0mastype\u001b[0m\u001b[1;33m(\u001b[0m\u001b[0mnp\u001b[0m\u001b[1;33m.\u001b[0m\u001b[0mfloat64\u001b[0m\u001b[1;33m)\u001b[0m\u001b[1;33m\u001b[0m\u001b[1;33m\u001b[0m\u001b[0m\n\u001b[0;32m    728\u001b[0m \u001b[1;33m\u001b[0m\u001b[0m\n\u001b[1;32m--> 729\u001b[1;33m     \u001b[0mcheck_consistent_length\u001b[0m\u001b[1;33m(\u001b[0m\u001b[0mX\u001b[0m\u001b[1;33m,\u001b[0m \u001b[0my\u001b[0m\u001b[1;33m)\u001b[0m\u001b[1;33m\u001b[0m\u001b[1;33m\u001b[0m\u001b[0m\n\u001b[0m\u001b[0;32m    730\u001b[0m \u001b[1;33m\u001b[0m\u001b[0m\n\u001b[0;32m    731\u001b[0m     \u001b[1;32mreturn\u001b[0m \u001b[0mX\u001b[0m\u001b[1;33m,\u001b[0m \u001b[0my\u001b[0m\u001b[1;33m\u001b[0m\u001b[1;33m\u001b[0m\u001b[0m\n",
      "\u001b[1;32mC:\\ProgramData\\Anaconda3\\lib\\site-packages\\sklearn\\utils\\validation.py\u001b[0m in \u001b[0;36mcheck_consistent_length\u001b[1;34m(*arrays)\u001b[0m\n\u001b[0;32m    203\u001b[0m     \u001b[1;32mif\u001b[0m \u001b[0mlen\u001b[0m\u001b[1;33m(\u001b[0m\u001b[0muniques\u001b[0m\u001b[1;33m)\u001b[0m \u001b[1;33m>\u001b[0m \u001b[1;36m1\u001b[0m\u001b[1;33m:\u001b[0m\u001b[1;33m\u001b[0m\u001b[1;33m\u001b[0m\u001b[0m\n\u001b[0;32m    204\u001b[0m         raise ValueError(\"Found input variables with inconsistent numbers of\"\n\u001b[1;32m--> 205\u001b[1;33m                          \" samples: %r\" % [int(l) for l in lengths])\n\u001b[0m\u001b[0;32m    206\u001b[0m \u001b[1;33m\u001b[0m\u001b[0m\n\u001b[0;32m    207\u001b[0m \u001b[1;33m\u001b[0m\u001b[0m\n",
      "\u001b[1;31mValueError\u001b[0m: Found input variables with inconsistent numbers of samples: [100, 200]"
     ]
    }
   ],
   "metadata": {}
  }
 ],
 "metadata": {
  "orig_nbformat": 4,
  "language_info": {
   "name": "python",
   "version": "3.7.4",
   "mimetype": "text/x-python",
   "codemirror_mode": {
    "name": "ipython",
    "version": 3
   },
   "pygments_lexer": "ipython3",
   "nbconvert_exporter": "python",
   "file_extension": ".py"
  },
  "kernelspec": {
   "name": "python3",
   "display_name": "Python 3.7.4 64-bit ('base': conda)"
  },
  "interpreter": {
   "hash": "b3ba2566441a7c06988d0923437866b63cedc61552a5af99d1f4fb67d367b25f"
  }
 },
 "nbformat": 4,
 "nbformat_minor": 2
}