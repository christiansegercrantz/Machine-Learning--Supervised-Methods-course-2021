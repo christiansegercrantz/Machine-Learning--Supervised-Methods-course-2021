{
 "cells": [
  {
   "cell_type": "code",
   "execution_count": 2,
   "metadata": {},
   "outputs": [
    {
     "name": "stdout",
     "output_type": "stream",
     "text": [
      "(569, 30) (569,)\n"
     ]
    }
   ],
   "source": [
    "## ####################################################\n",
    "import sys\n",
    "import numpy as np\n",
    "from sklearn.datasets import load_breast_cancer\n",
    "from sklearn.model_selection import KFold\n",
    "## ###################################################\n",
    "\n",
    "# load the data\n",
    "X, y = load_breast_cancer(return_X_y=True)  ## X input, y output\n",
    "## to convert the {0,1} output into {-1,+1}\n",
    "y = 2*y - 1    \n",
    "\n",
    "print(X.shape, y.shape)\n",
    "mdata,ndim = X.shape \n",
    "\n",
    "nfold = 5         ## number of folds \n",
    "## initialize the learning parameters for all folds\n",
    "f1 = np.zeros(nfold)\n",
    "maxmargin_train = np.zeros(nfold)\n"
   ]
  },
  {
   "cell_type": "code",
   "execution_count": 57,
   "metadata": {},
   "outputs": [
    {
     "data": {
      "text/plain": [
       "0.174"
      ]
     },
     "execution_count": 57,
     "metadata": {},
     "output_type": "execute_result"
    }
   ],
   "source": [
    "from sklearn.linear_model import Perceptron\n",
    "from sklearn.metrics import f1_score\n",
    "kf = KFold(n_splits=nfold, random_state=None, shuffle=False)\n",
    "i=-1\n",
    "for train_index, val_index in kf.split(X):\n",
    "  i += 1\n",
    "  X_train, X_val = X[train_index], X[val_index]\n",
    "  y_train, y_val = y[train_index], y[val_index]\n",
    "  iterations_4 = 20\n",
    "  w = np.full((iterations_4,ndim), np.zeros(ndim))\n",
    "  for j in range(iterations_4-1):\n",
    "    for k in range(len(y_train)):\n",
    "      if(y_train[k] * np.dot(w[j],X_train[k]) <= 0):\n",
    "        w[j+1] = w[j] +y_train[k] * X_train[k]\n",
    "  y_pred = []\n",
    "  for k in range(len(y_val)):\n",
    "    y_pred.append(np.sign(np.dot(w[iterations_4-1,:], X_val[k,:])))\n",
    "  f1[i] = f1_score(y_val, y_pred)\n",
    "f1_avg = sum(f1)/len(f1)\n",
    "f1_avg"
   ]
  },
  {
   "cell_type": "code",
   "execution_count": null,
   "metadata": {},
   "outputs": [],
   "source": [
    "print('The average F1:',np.mean(f1))\n",
    "print('The average maximum margin achieved in the training:',np.mean(maxmargin_train))"
   ]
  },
  {
   "cell_type": "code",
   "execution_count": 8,
   "metadata": {},
   "outputs": [],
   "source": [
    "#SKlearn solution, inster at line 8 (splitting y)\n",
    "clf = Perceptron(max_iter=iterations_4, fit_intercept=False, n_jobs=-1)\n",
    "clf.fit(X_train, y_train)\n",
    "y_pred = clf.predict(X_val)"
   ]
  }
 ],
 "metadata": {
  "interpreter": {
   "hash": "fb6ecd370173c15ba1f344ca231bc9e2bbb194c9d7e08b75c89986db00268143"
  },
  "kernelspec": {
   "display_name": "Python 3.9.1 64-bit",
   "name": "python3"
  },
  "language_info": {
   "codemirror_mode": {
    "name": "ipython",
    "version": 3
   },
   "file_extension": ".py",
   "mimetype": "text/x-python",
   "name": "python",
   "nbconvert_exporter": "python",
   "pygments_lexer": "ipython3",
   "version": "3.9.1"
  },
  "orig_nbformat": 4
 },
 "nbformat": 4,
 "nbformat_minor": 2
}
