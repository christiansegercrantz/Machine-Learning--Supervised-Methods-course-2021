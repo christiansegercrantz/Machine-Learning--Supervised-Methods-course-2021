{
 "cells": [
  {
   "cell_type": "markdown",
   "metadata": {},
   "source": [
    "## Answers\n",
    "1. 0.25\n",
    "2. \n",
    "3. c \n",
    "4. c"
   ]
  },
  {
   "cell_type": "markdown",
   "metadata": {},
   "source": [
    "# 1)\n",
    "$E\\left[\\min\\left(\\frac{1}{2}x + \\frac{1}{2}, -\\frac{1}{2}x+\\frac{1}{2}\\right)\\right] = 0.25$\n",
    "\n",
    "https://www.wolframalpha.com/input/?i=min%281%2F2+x+%2B+1%2F2%2C+-1%2F2+x+%2B+1%2F2%29+"
   ]
  },
  {
   "cell_type": "markdown",
   "metadata": {},
   "source": [
    "# 2)\n",
    "**Lecture 5 slide 23:** Minimizing the logistic loss correspond maximizing the likelihood of\n",
    "the training data"
   ]
  },
  {
   "cell_type": "code",
   "execution_count": 140,
   "metadata": {},
   "outputs": [
    {
     "name": "stdout",
     "output_type": "stream",
     "text": [
      "(569, 30) (569,)\n"
     ]
    }
   ],
   "source": [
    "## ####################################################\n",
    "import sys\n",
    "import numpy as np\n",
    "from sklearn.datasets import load_breast_cancer\n",
    "from sklearn.model_selection import KFold\n",
    "## ###################################################\n",
    "\n",
    "# load the data\n",
    "X, y = load_breast_cancer(return_X_y=True)  ## X input, y output\n",
    "## to convert the {0,1} output into {-1,+1}\n",
    "y = 2*y - 1    \n",
    "\n",
    "print(X.shape, y.shape)\n",
    "mdata,ndim = X.shape \n",
    "\n",
    "nfold = 5         ## number of folds \n",
    "## initialize the learning parameters for all folds\n",
    "f1 = np.zeros(nfold)\n",
    "maxmargin_train = np.zeros(nfold)\n"
   ]
  },
  {
   "cell_type": "code",
   "execution_count": 141,
   "metadata": {},
   "outputs": [],
   "source": [
    "def perceptron(X,y, iterations):\n",
    "  w = np.zeros(len(X[0,:]))\n",
    "  for j in range(iterations):\n",
    "    for k in range(len(y)):\n",
    "      if(y[k] * np.dot(w,X[k]) <= 0):\n",
    "        w = np.add(w, np.dot(y[k],X[k]))\n",
    "  return w"
   ]
  },
  {
   "cell_type": "code",
   "execution_count": 142,
   "metadata": {},
   "outputs": [
    {
     "name": "stdout",
     "output_type": "stream",
     "text": [
      "The f1 scores are: [0.88 0.65 0.76 0.79 0.96] and their average is 0.81\n"
     ]
    }
   ],
   "source": [
    "from sklearn.linear_model import Perceptron\n",
    "from sklearn.metrics import f1_score\n",
    "kf = KFold(n_splits=nfold, random_state=None, shuffle=False)\n",
    "i=-1\n",
    "iterations_3 = 20\n",
    "for train_index, val_index in kf.split(X):\n",
    "  i += 1\n",
    "  X_train, X_val = X[train_index], X[val_index]\n",
    "  y_train, y_val = y[train_index], y[val_index]\n",
    "  weights = perceptron(X_train, y_train, iterations_3)\n",
    "  y_pred=[]\n",
    "  for X_val_i in X_val:\n",
    "    y_pred.append(np.sign(np.dot(weights, X_val_i)))\n",
    "  f1[i] = f1_score(y_true = y_val, y_pred= y_pred)\n",
    "f1_avg = sum(f1)/len(f1)\n",
    "print(\"The f1 scores are:\", np.round(f1,decimals=2), \"and their average is\", np.round(f1_avg,decimals=2))"
   ]
  },
  {
   "cell_type": "code",
   "execution_count": 143,
   "metadata": {},
   "outputs": [
    {
     "name": "stdout",
     "output_type": "stream",
     "text": [
      "The f1 scores are: [0.83 0.9  0.91 0.96 0.53] and their average is 0.83\n"
     ]
    },
    {
     "name": "stderr",
     "output_type": "stream",
     "text": [
      "C:\\Users\\Christian Segercrant\\AppData\\Local\\Programs\\Python\\Python39\\lib\\site-packages\\sklearn\\linear_model\\_stochastic_gradient.py:574: ConvergenceWarning: Maximum number of iteration reached before convergence. Consider increasing max_iter to improve the fit.\n",
      "  warnings.warn(\"Maximum number of iteration reached before \"\n"
     ]
    }
   ],
   "source": [
    "#SKlearn solution\n",
    "i=-1\n",
    "for train_index, val_index in kf.split(X):\n",
    "  i += 1\n",
    "  X_train, X_val = X[train_index], X[val_index]\n",
    "  y_train, y_val = y[train_index], y[val_index]\n",
    "  clf = Perceptron(max_iter=iterations_3, fit_intercept=False, n_jobs=-1)\n",
    "  clf.fit(X_train, y_train)\n",
    "  y_pred = clf.predict(X_val)\n",
    "  f1[i] = f1_score(y_true = y_val, y_pred= y_pred)\n",
    "f1_avg = sum(f1)/len(f1)\n",
    "print(\"The f1 scores are:\", np.round(f1,decimals=2), \"and their average is\", np.round(f1_avg,decimals=2))"
   ]
  },
  {
   "cell_type": "code",
   "execution_count": 144,
   "metadata": {},
   "outputs": [],
   "source": [
    "def perceptron_margin(X,y, iterations):\n",
    "  w = np.zeros(len(X[0,:]))\n",
    "  m = 0\n",
    "  for j in range(iterations):\n",
    "    for k in range(len(y)):\n",
    "      if(y[k] * np.dot(w,X[k]) <= 0):\n",
    "        w = np.add(w, np.dot(y[k],X[k]))\n",
    "      m = max(m, y[k] * np.dot(w,X[k]))\n",
    "  return w, m"
   ]
  },
  {
   "cell_type": "code",
   "execution_count": 145,
   "metadata": {},
   "outputs": [
    {
     "name": "stdout",
     "output_type": "stream",
     "text": [
      "The average F1: 0.93\n",
      "The average maximum margin achieved in the training: 24.94\n"
     ]
    }
   ],
   "source": [
    "from sklearn.preprocessing import MaxAbsScaler\n",
    "#scaler = MaxAbsScaler()\n",
    "#X_scaled = scaler.fit_transform(X)\n",
    "X_max = np.max(abs(X),axis=0,keepdims=True)\n",
    "X_scaled = X/X_max\n",
    "i=-1\n",
    "iterations_4 = 8\n",
    "for train_index, val_index in kf.split(X_scaled):\n",
    "  i += 1\n",
    "  X_train, X_val = X_scaled[train_index], X_scaled[val_index]\n",
    "  y_train, y_val = y[train_index], y[val_index]\n",
    "  weights, margin = perceptron_margin(X_train, y_train, iterations_4)\n",
    "  maxmargin_train[i] = margin\n",
    "  y_pred=[]\n",
    "  for idx, X_val_i in enumerate(X_val):\n",
    "    y_pred.append(np.sign(np.dot(weights, X_val_i)))\n",
    "  f1[i] = f1_score(y_true = y_val, y_pred= y_pred)\n",
    "  \n",
    "f1_avg = sum(f1)/len(f1)\n",
    "print('The average F1:',np.round(np.mean(f1),decimals=2))\n",
    "print('The average maximum margin achieved in the training:',np.round(np.mean(maxmargin_train),decimals=2))"
   ]
  },
  {
   "cell_type": "code",
   "execution_count": 146,
   "metadata": {},
   "outputs": [
    {
     "name": "stdout",
     "output_type": "stream",
     "text": [
      "The f1 scores are: [0.92 0.9  0.95 0.97 0.98] and their average is 0.94\n"
     ]
    },
    {
     "name": "stderr",
     "output_type": "stream",
     "text": [
      "C:\\Users\\Christian Segercrant\\AppData\\Local\\Programs\\Python\\Python39\\lib\\site-packages\\sklearn\\linear_model\\_stochastic_gradient.py:574: ConvergenceWarning: Maximum number of iteration reached before convergence. Consider increasing max_iter to improve the fit.\n",
      "  warnings.warn(\"Maximum number of iteration reached before \"\n"
     ]
    }
   ],
   "source": [
    "#SKlearn solution\n",
    "scaler = MaxAbsScaler()\n",
    "X_scaled = scaler.fit_transform(X)\n",
    "i=-1\n",
    "for train_index, val_index in kf.split(X_scaled):\n",
    "  i += 1\n",
    "  X_train, X_val = X_scaled[train_index], X_scaled[val_index]\n",
    "  y_train, y_val = y[train_index], y[val_index]\n",
    "  clf = Perceptron(max_iter=iterations_3, fit_intercept=False, n_jobs=-1)\n",
    "  clf.fit(X_train, y_train)\n",
    "  y_pred = clf.predict(X_val)\n",
    "  f1[i] = f1_score(y_val, y_pred)\n",
    "f1_avg = sum(f1)/len(f1)\n",
    "print(\"The f1 scores are:\", np.round(f1,decimals=2), \"and their average is\", np.round(f1_avg,decimals=2))"
   ]
  }
 ],
 "metadata": {
  "interpreter": {
   "hash": "fb6ecd370173c15ba1f344ca231bc9e2bbb194c9d7e08b75c89986db00268143"
  },
  "kernelspec": {
   "display_name": "Python 3.9.1 64-bit",
   "name": "python3"
  },
  "language_info": {
   "codemirror_mode": {
    "name": "ipython",
    "version": 3
   },
   "file_extension": ".py",
   "mimetype": "text/x-python",
   "name": "python",
   "nbconvert_exporter": "python",
   "pygments_lexer": "ipython3",
   "version": "3.9.1"
  },
  "orig_nbformat": 4
 },
 "nbformat": 4,
 "nbformat_minor": 2
}
