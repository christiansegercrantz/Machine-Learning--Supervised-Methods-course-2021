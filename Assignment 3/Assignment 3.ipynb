{
 "cells": [
  {
   "cell_type": "markdown",
   "metadata": {},
   "source": [
    "## Answers\n",
    "1. 0.25\n",
    "2. \n",
    "3. ??? \n",
    "4. "
   ]
  },
  {
   "cell_type": "markdown",
   "metadata": {},
   "source": [
    "# 1)\n",
    "$E\\left[\\min\\left(\\frac{1}{2}x + \\frac{1}{2}, -\\frac{1}{2}x+\\frac{1}{2}\\right)\\right] = 0.25$\n",
    "\n",
    "https://www.wolframalpha.com/input/?i=min%281%2F2+x+%2B+1%2F2%2C+-1%2F2+x+%2B+1%2F2%29+"
   ]
  },
  {
   "cell_type": "markdown",
   "metadata": {},
   "source": [
    "# 2)\n",
    "**Lecture 5 slide 23:** Minimizing the logistic loss correspond maximizing the likelihood of\n",
    "the training data"
   ]
  },
  {
   "cell_type": "code",
   "execution_count": 75,
   "metadata": {},
   "outputs": [
    {
     "name": "stdout",
     "output_type": "stream",
     "text": [
      "(569, 30) (569,)\n"
     ]
    }
   ],
   "source": [
    "## ####################################################\n",
    "import sys\n",
    "import numpy as np\n",
    "from sklearn.datasets import load_breast_cancer\n",
    "from sklearn.model_selection import KFold\n",
    "## ###################################################\n",
    "\n",
    "# load the data\n",
    "X, y = load_breast_cancer(return_X_y=True)  ## X input, y output\n",
    "## to convert the {0,1} output into {-1,+1}\n",
    "y = 2*y - 1    \n",
    "\n",
    "print(X.shape, y.shape)\n",
    "mdata,ndim = X.shape \n",
    "\n",
    "nfold = 5         ## number of folds \n",
    "## initialize the learning parameters for all folds\n",
    "f1 = np.zeros(nfold)\n",
    "maxmargin_train = np.zeros(nfold)\n"
   ]
  },
  {
   "cell_type": "code",
   "execution_count": 109,
   "metadata": {},
   "outputs": [
    {
     "name": "stdout",
     "output_type": "stream",
     "text": [
      "The f1 scores are: [0.60130719 0.         0.78723404 0.         0.87      ] and their average is 0.45170824641913504\n"
     ]
    }
   ],
   "source": [
    "from sklearn.linear_model import Perceptron\n",
    "from sklearn.metrics import f1_score\n",
    "kf = KFold(n_splits=nfold, random_state=None, shuffle=False)\n",
    "i=-1\n",
    "for train_index, val_index in kf.split(X):\n",
    "  i += 1\n",
    "  X_train, X_val = X[train_index], X[val_index]\n",
    "  y_train, y_val = y[train_index], y[val_index]\n",
    "  iterations_3 = 20\n",
    "  w = np.full((iterations_3+1,ndim), np.zeros(ndim))\n",
    "  for j in range(iterations_3):\n",
    "    w[j+1] = w[j]\n",
    "    for k in range(len(y_train)):\n",
    "      if(y_train[k] * np.dot(w[j],X_train[k]) <= 0):\n",
    "        w[j+1] += y_train[k]*X_train[k]\n",
    "  y_pred = []\n",
    "  for k in range(len(y_val)):\n",
    "    y_pred.append(np.sign(np.dot(w[iterations_3], X_val[k])))\n",
    "  f1[i] = f1_score(y_val, y_pred)\n",
    "f1_avg = sum(f1)/len(f1)\n",
    "print(\"The f1 scores are:\", f1, \"and their average is\", f1_avg)"
   ]
  },
  {
   "cell_type": "code",
   "execution_count": 77,
   "metadata": {},
   "outputs": [
    {
     "name": "stderr",
     "output_type": "stream",
     "text": [
      "C:\\ProgramData\\Anaconda3\\lib\\site-packages\\sklearn\\linear_model\\stochastic_gradient.py:561: ConvergenceWarning: Maximum number of iteration reached before convergence. Consider increasing max_iter to improve the fit.\n",
      "  ConvergenceWarning)\n"
     ]
    }
   ],
   "source": [
    "#SKlearn solution, inster at line 8 (splitting y)\n",
    "clf = Perceptron(max_iter=iterations_4, fit_intercept=False, n_jobs=-1)\n",
    "clf.fit(X_train, y_train)\n",
    "y_pred = clf.predict(X_val)"
   ]
  },
  {
   "cell_type": "code",
   "execution_count": 78,
   "metadata": {},
   "outputs": [],
   "source": [
    "from sklearn.preprocessing import MaxAbsScaler\n",
    "scaler = MaxAbsScaler()\n",
    "X_scaled = scaler.fit_transform(X)\n",
    "i=-1\n",
    "for train_index, val_index in kf.split(X_scaled):\n",
    "  i += 1\n",
    "  X_train, X_val = X[train_index], X[val_index]\n",
    "  y_train, y_val = y[train_index], y[val_index]\n",
    "  iterations_4 = 8\n",
    "  margin=0\n",
    "  for k in range(len(y_val)): \n",
    "    margin_new = y[k]*np.dot(w[iterations_4,:],X_val[k,:])\n",
    "    margin = margin_new if margin_new > margin  else margin\n",
    "  maxmargin_train[i] = margin"
   ]
  },
  {
   "cell_type": "code",
   "execution_count": 79,
   "metadata": {},
   "outputs": [
    {
     "name": "stdout",
     "output_type": "stream",
     "text": [
      "The average F1: 0.45170824641913504\n",
      "The average maximum margin achieved in the training: 1067687952.8400589\n"
     ]
    }
   ],
   "source": [
    "print('The average F1:',np.mean(f1))\n",
    "print('The average maximum margin achieved in the training:',np.mean(maxmargin_train))"
   ]
  },
  {
   "cell_type": "markdown",
   "metadata": {},
   "source": []
  }
 ],
 "metadata": {
  "interpreter": {
   "hash": "b3ba2566441a7c06988d0923437866b63cedc61552a5af99d1f4fb67d367b25f"
  },
  "kernelspec": {
   "display_name": "Python 3.7.4 64-bit ('base': conda)",
   "name": "python3"
  },
  "language_info": {
   "codemirror_mode": {
    "name": "ipython",
    "version": 3
   },
   "file_extension": ".py",
   "mimetype": "text/x-python",
   "name": "python",
   "nbconvert_exporter": "python",
   "pygments_lexer": "ipython3",
   "version": "3.7.4"
  },
  "orig_nbformat": 4
 },
 "nbformat": 4,
 "nbformat_minor": 2
}
