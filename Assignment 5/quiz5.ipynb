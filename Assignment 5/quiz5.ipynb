{
 "cells": [
  {
   "cell_type": "markdown",
   "metadata": {},
   "source": [
    "# Answers\n",
    "1. \n",
    "2. (3)\n",
    "3. (1)\n",
    "4. (3)"
   ]
  },
  {
   "cell_type": "code",
   "execution_count": 38,
   "metadata": {},
   "outputs": [
    {
     "data": {
      "text/plain": [
       "0.32099661480339453"
      ]
     },
     "execution_count": 38,
     "metadata": {},
     "output_type": "execute_result"
    }
   ],
   "source": [
    "# 2\n",
    "import math\n",
    "L = 21\n",
    "sum = 0\n",
    "epsilon = 0.45\n",
    "for k in range(11,22):\n",
    "  sum += math.comb(L,k)*epsilon**k*(1-epsilon)**(L-k)\n",
    "  \n",
    "sum "
   ]
  },
  {
   "cell_type": "code",
   "execution_count": 45,
   "metadata": {},
   "outputs": [
    {
     "name": "stderr",
     "output_type": "stream",
     "text": [
      "C:\\Python39\\lib\\site-packages\\sklearn\\neural_network\\_multilayer_perceptron.py:692: ConvergenceWarning: Stochastic Optimizer: Maximum iterations (100) reached and the optimization hasn't converged yet.\n",
      "  warnings.warn(\n"
     ]
    },
    {
     "name": "stdout",
     "output_type": "stream",
     "text": [
      "The F1-score of the MLP classifier is: 0.959\n",
      "The F1-score of the Ada classifier is: 0.956\n",
      "The F1-score of the GB classifier is: 0.964\n",
      "The best classifier is GB\n"
     ]
    }
   ],
   "source": [
    "from sklearn.datasets import load_breast_cancer\n",
    "from sklearn.neural_network import MLPClassifier\n",
    "from sklearn.ensemble import AdaBoostClassifier\n",
    "from sklearn.ensemble import GradientBoostingClassifier\n",
    "from sklearn.model_selection import train_test_split\n",
    "from sklearn.preprocessing import StandardScaler\n",
    "from sklearn.metrics import f1_score\n",
    "\n",
    "MLP = MLPClassifier(alpha=1, max_iter=100, random_state=1)\n",
    "Ada = AdaBoostClassifier(random_state=1)\n",
    "GB = GradientBoostingClassifier(n_estimators=200, learning_rate=1, max_depth=1, random_state=1)\n",
    "scaler = StandardScaler()\n",
    "classifiers = [(MLP,\"MLP\"), (Ada,\"Ada\"), (GB,\"GB\")]\n",
    "X,y = load_breast_cancer(return_X_y=True)\n",
    "X_scaled = scaler.fit_transform(X)\n",
    "X_train, X_test, y_train, y_test = train_test_split(X_scaled,y,test_size=0.5,random_state=1)\n",
    "#X_train = scaler.fit_transform(X_train)\n",
    "#X_test = scaler.transform(X_test)\n",
    "f1_scores = []\n",
    "for (clf,name) in classifiers:\n",
    "  clf.fit(X_train, y_train)\n",
    "  y_pred = clf.predict(X_test)\n",
    "  f1 = f1_score(y_true = y_test, y_pred=y_pred)\n",
    "  f1_scores.append(f1)\n",
    "  print(\"The F1-score of the\",name,\"classifier is:\", round(f1,3))\n",
    "print(\"The best classifier is\", classifiers[f1_scores.index(max(f1_scores))][1])"
   ]
  }
 ],
 "metadata": {
  "interpreter": {
   "hash": "d34d775e0b9bc5d91568c306d60d41b4e8ee7ef0deff665e67f27664ff2ef059"
  },
  "kernelspec": {
   "display_name": "Python 3.9.5 64-bit (conda)",
   "language": "python",
   "name": "python3"
  },
  "language_info": {
   "codemirror_mode": {
    "name": "ipython",
    "version": 3
   },
   "file_extension": ".py",
   "mimetype": "text/x-python",
   "name": "python",
   "nbconvert_exporter": "python",
   "pygments_lexer": "ipython3",
   "version": "3.9.6"
  },
  "orig_nbformat": 4
 },
 "nbformat": 4,
 "nbformat_minor": 2
}
