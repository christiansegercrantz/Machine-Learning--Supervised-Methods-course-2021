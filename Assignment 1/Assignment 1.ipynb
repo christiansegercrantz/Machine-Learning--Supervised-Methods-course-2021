{
 "cells": [
  {
   "cell_type": "code",
   "execution_count": 1,
   "source": [
    "import numpy as np\r\n",
    "from sklearn.datasets import load_diabetes\r\n",
    "from sklearn.metrics import mean_squared_error\r\n"
   ],
   "outputs": [],
   "metadata": {}
  },
  {
   "cell_type": "code",
   "execution_count": 2,
   "source": [
    "# load the data\r\n",
    "X, y = load_diabetes(return_X_y=True)\r\n",
    "print(X.shape, y.shape)"
   ],
   "outputs": [
    {
     "output_type": "stream",
     "name": "stdout",
     "text": [
      "(442, 10) (442,)\n"
     ]
    }
   ],
   "metadata": {}
  },
  {
   "cell_type": "code",
   "execution_count": 3,
   "source": [
    "# division into training and testing\r\n",
    "np.random.seed(0)\r\n",
    "order = np.random.permutation(len(y))\r\n",
    "tst = np.sort(order[:200])\r\n",
    "tr = np.sort(order[200:])"
   ],
   "outputs": [],
   "metadata": {}
  },
  {
   "cell_type": "code",
   "execution_count": 4,
   "source": [
    "Xtr = X[tr, :]\r\n",
    "Xtst = X[tst, :]\r\n",
    "Ytr = y[tr]\r\n",
    "Ytst = y[tst]"
   ],
   "outputs": [],
   "metadata": {}
  },
  {
   "cell_type": "code",
   "execution_count": 39,
   "source": [
    "from sklearn.linear_model import LinearRegression\r\n",
    "linreg = LinearRegression(fit_intercept = False).fit(Xtr,Ytr)\r\n",
    "Y_pred = linreg.predict(Xtst)"
   ],
   "outputs": [],
   "metadata": {}
  },
  {
   "cell_type": "code",
   "execution_count": 42,
   "source": [
    "mean_squared_error(Y_pred, Ytst)"
   ],
   "outputs": [
    {
     "output_type": "execute_result",
     "data": {
      "text/plain": [
       "28120.6525573155"
      ]
     },
     "metadata": {},
     "execution_count": 42
    }
   ],
   "metadata": {}
  }
 ],
 "metadata": {
  "orig_nbformat": 4,
  "language_info": {
   "name": "python",
   "version": "3.9.1",
   "mimetype": "text/x-python",
   "codemirror_mode": {
    "name": "ipython",
    "version": 3
   },
   "pygments_lexer": "ipython3",
   "nbconvert_exporter": "python",
   "file_extension": ".py"
  },
  "kernelspec": {
   "name": "python3",
   "display_name": "Python 3.9.1 64-bit"
  },
  "interpreter": {
   "hash": "fb6ecd370173c15ba1f344ca231bc9e2bbb194c9d7e08b75c89986db00268143"
  }
 },
 "nbformat": 4,
 "nbformat_minor": 2
}