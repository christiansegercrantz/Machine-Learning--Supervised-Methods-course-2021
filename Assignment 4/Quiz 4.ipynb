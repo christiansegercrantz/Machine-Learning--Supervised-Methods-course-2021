{
 "cells": [
  {
   "cell_type": "markdown",
   "metadata": {},
   "source": [
    "# Answers\n",
    "1. (3)\n",
    "2. (2) https://membres-ljk.imag.fr/Roland.Hildebrand/trier_vortrag.pdf\n",
    "3. (2)\n",
    "4. (4)"
   ]
  },
  {
   "cell_type": "code",
   "execution_count": 50,
   "metadata": {},
   "outputs": [
    {
     "name": "stdout",
     "output_type": "stream",
     "text": [
      "(569, 30) (569,)\n"
     ]
    }
   ],
   "source": [
    "## ####################################################\n",
    "import numpy as np\n",
    "from sklearn.datasets import load_breast_cancer\n",
    "\n",
    "# load the data\n",
    "X, y = load_breast_cancer(return_X_y=True)  ## X input, y output\n",
    "print(X.shape, y.shape)\n",
    "## to convert the {0,1} output into {-1,+1}\n",
    "y = 2 * y -1\n",
    "\n",
    "mdata,ndim=X.shape                                   ## size of the data \n",
    "\n",
    "iscale = 1   ## =0 no scaling, =1 scaling the by the maximum absolute value\n",
    "if iscale == 1: \n",
    "  X /= np.outer(np.ones(mdata),np.max(np.abs(X),0))\n",
    "\n",
    "niter = 10 ## number of iteration \n"
   ]
  },
  {
   "cell_type": "code",
   "execution_count": 51,
   "metadata": {},
   "outputs": [],
   "source": [
    "## initialize eta, lambda for the primal algorithm\n",
    "eta=0.1              ##  step size\n",
    "xlambda=0.01          ## balancing constant between loss and regularization\n",
    "\n",
    "w1 = np.zeros(ndim)\n",
    "for i in range(niter):\n",
    "  X_i = X[i,:]\n",
    "  y_i = y[i]\n",
    "  upDir = y_i*np.dot(w1,X_i)\n",
    "  if upDir < 1:\n",
    "    J = -(y_i*X_i)+(xlambda*w1)\n",
    "  else:\n",
    "    J = xlambda*w1\n",
    "  w1 -= eta*J"
   ]
  },
  {
   "cell_type": "code",
   "execution_count": 52,
   "metadata": {},
   "outputs": [],
   "source": [
    "## set the penalty constant for the dual algorithm\n",
    "C = 1000\n",
    "\n",
    "alpha = np.zeros(ndim)\n",
    "for i in range(niter):\n",
    "  X_i = X[i,:]\n",
    "  denominator = np.dot(X_i,X_i)\n",
    "  nominator = 1\n",
    "  for j in range(niter):\n",
    "    if(i==j):\n",
    "      pass\n",
    "    X_j = X[j,:]\n",
    "    linKernel = np.dot(X_i,X_j)\n",
    "    nominator -= y[i]*alpha[j]*y[j] * linKernel\n",
    "    #print(f'y_{i} = {y[i]}, alpha_{j}={alpha[j]}, y_{j}={y[j]}')\n",
    "    #print(f'For iteration i={i}, j={j} the nominator is {nominator}')\n",
    "  alpha[i] = nominator/denominator\n",
    "  #print(f'Pre penalty alpha_{i}: {alpha[i]}')\n",
    "  alpha[i] = min(C/mdata, max(0, alpha[i]))\n",
    "  #print(f'Post penalty alpha_{i}: {alpha[i]}')\n",
    "\n",
    "  \n",
    "w2 = sum(alpha[i]*y[i]*X[i,:] for i in range(ndim))\n",
    "#w2 = 0\n",
    "#for (i, a_i) in enumerate(alpha):\n",
    "#  w2 += a_i*y[i]*X[i,:]"
   ]
  },
  {
   "cell_type": "code",
   "execution_count": 63,
   "metadata": {},
   "outputs": [
    {
     "ename": "TypeError",
     "evalue": "'builtin_function_or_method' object does not support item assignment",
     "output_type": "error",
     "traceback": [
      "\u001b[1;31m---------------------------------------------------------------------------\u001b[0m",
      "\u001b[1;31mTypeError\u001b[0m                                 Traceback (most recent call last)",
      "\u001b[1;32m~\\AppData\\Local\\Temp/ipykernel_28548/3563936751.py\u001b[0m in \u001b[0;36m<module>\u001b[1;34m\u001b[0m\n\u001b[0;32m     19\u001b[0m     \u001b[1;32mreturn\u001b[0m \u001b[0mweights\u001b[0m\u001b[1;33m\u001b[0m\u001b[1;33m\u001b[0m\u001b[0m\n\u001b[0;32m     20\u001b[0m \u001b[1;33m\u001b[0m\u001b[0m\n\u001b[1;32m---> 21\u001b[1;33m \u001b[0mw2\u001b[0m \u001b[1;33m=\u001b[0m \u001b[0mdual_soft_margin\u001b[0m\u001b[1;33m(\u001b[0m\u001b[0mX\u001b[0m\u001b[1;33m,\u001b[0m \u001b[0my\u001b[0m\u001b[1;33m)\u001b[0m\u001b[1;33m\u001b[0m\u001b[1;33m\u001b[0m\u001b[0m\n\u001b[0m",
      "\u001b[1;32m~\\AppData\\Local\\Temp/ipykernel_28548/3563936751.py\u001b[0m in \u001b[0;36mdual_soft_margin\u001b[1;34m(X, y)\u001b[0m\n\u001b[0;32m     15\u001b[0m         \u001b[0my_i\u001b[0m \u001b[1;33m=\u001b[0m \u001b[0my\u001b[0m\u001b[1;33m[\u001b[0m\u001b[0mi\u001b[0m\u001b[1;33m]\u001b[0m\u001b[1;33m\u001b[0m\u001b[1;33m\u001b[0m\u001b[0m\n\u001b[0;32m     16\u001b[0m         \u001b[0mx_i\u001b[0m \u001b[1;33m=\u001b[0m \u001b[0mX\u001b[0m\u001b[1;33m[\u001b[0m\u001b[0mi\u001b[0m\u001b[1;33m,\u001b[0m\u001b[1;33m:\u001b[0m\u001b[1;33m]\u001b[0m\u001b[1;33m\u001b[0m\u001b[1;33m\u001b[0m\u001b[0m\n\u001b[1;32m---> 17\u001b[1;33m         \u001b[0malpha_i\u001b[0m\u001b[1;33m=\u001b[0m \u001b[0mstocastic_dual_coordinate_ascent\u001b[0m\u001b[1;33m(\u001b[0m\u001b[0mX\u001b[0m\u001b[1;33m,\u001b[0m\u001b[0my\u001b[0m\u001b[1;33m,\u001b[0m\u001b[0mx_i\u001b[0m\u001b[1;33m,\u001b[0m\u001b[0my_i\u001b[0m\u001b[1;33m)\u001b[0m\u001b[1;33m\u001b[0m\u001b[1;33m\u001b[0m\u001b[0m\n\u001b[0m\u001b[0;32m     18\u001b[0m         \u001b[0mweights\u001b[0m \u001b[1;33m=\u001b[0m \u001b[0mweights\u001b[0m \u001b[1;33m+\u001b[0m \u001b[0malpha_i\u001b[0m\u001b[1;33m*\u001b[0m\u001b[0my_i\u001b[0m\u001b[1;33m*\u001b[0m\u001b[0mx_i\u001b[0m\u001b[1;33m\u001b[0m\u001b[1;33m\u001b[0m\u001b[0m\n\u001b[0;32m     19\u001b[0m     \u001b[1;32mreturn\u001b[0m \u001b[0mweights\u001b[0m\u001b[1;33m\u001b[0m\u001b[1;33m\u001b[0m\u001b[0m\n",
      "\u001b[1;32m~\\AppData\\Local\\Temp/ipykernel_28548/3563936751.py\u001b[0m in \u001b[0;36mstocastic_dual_coordinate_ascent\u001b[1;34m(X, y, x_i, y_i)\u001b[0m\n\u001b[0;32m      5\u001b[0m         \u001b[0my_j\u001b[0m\u001b[1;33m=\u001b[0m \u001b[0my\u001b[0m\u001b[1;33m[\u001b[0m\u001b[0mj\u001b[0m\u001b[1;33m]\u001b[0m\u001b[1;33m\u001b[0m\u001b[1;33m\u001b[0m\u001b[0m\n\u001b[0;32m      6\u001b[0m         \u001b[0mx_j\u001b[0m \u001b[1;33m=\u001b[0m \u001b[0mX\u001b[0m\u001b[1;33m[\u001b[0m\u001b[0mj\u001b[0m\u001b[1;33m,\u001b[0m\u001b[1;33m:\u001b[0m\u001b[1;33m]\u001b[0m\u001b[1;33m\u001b[0m\u001b[1;33m\u001b[0m\u001b[0m\n\u001b[1;32m----> 7\u001b[1;33m         \u001b[0msum\u001b[0m\u001b[1;33m[\u001b[0m\u001b[0mj\u001b[0m\u001b[1;33m]\u001b[0m \u001b[1;33m=\u001b[0m \u001b[0malpha\u001b[0m\u001b[1;33m[\u001b[0m\u001b[0mj\u001b[0m\u001b[1;33m]\u001b[0m \u001b[1;33m*\u001b[0m \u001b[0my_j\u001b[0m \u001b[1;33m*\u001b[0m \u001b[0mnp\u001b[0m\u001b[1;33m.\u001b[0m\u001b[0mdot\u001b[0m\u001b[1;33m(\u001b[0m\u001b[0mx_i\u001b[0m\u001b[1;33m,\u001b[0m \u001b[0mx_j\u001b[0m\u001b[1;33m)\u001b[0m\u001b[1;33m\u001b[0m\u001b[1;33m\u001b[0m\u001b[0m\n\u001b[0m\u001b[0;32m      8\u001b[0m     \u001b[0malpha_i\u001b[0m \u001b[1;33m=\u001b[0m \u001b[1;33m(\u001b[0m\u001b[1;36m1\u001b[0m \u001b[1;33m-\u001b[0m \u001b[0my_i\u001b[0m \u001b[1;33m*\u001b[0m \u001b[0msum\u001b[0m\u001b[1;33m)\u001b[0m \u001b[1;33m/\u001b[0m \u001b[1;33m(\u001b[0m\u001b[0mnp\u001b[0m\u001b[1;33m.\u001b[0m\u001b[0mdot\u001b[0m\u001b[1;33m(\u001b[0m\u001b[0mx_i\u001b[0m\u001b[1;33m,\u001b[0m\u001b[0mx_i\u001b[0m\u001b[1;33m)\u001b[0m\u001b[1;33m)\u001b[0m\u001b[1;33m\u001b[0m\u001b[1;33m\u001b[0m\u001b[0m\n\u001b[0;32m      9\u001b[0m     \u001b[0malpha_i\u001b[0m \u001b[1;33m=\u001b[0m \u001b[0mmin\u001b[0m\u001b[1;33m(\u001b[0m\u001b[0mC\u001b[0m\u001b[1;33m/\u001b[0m\u001b[0mmdata\u001b[0m\u001b[1;33m,\u001b[0m \u001b[0mmax\u001b[0m\u001b[1;33m(\u001b[0m\u001b[0malpha_i\u001b[0m\u001b[1;33m,\u001b[0m \u001b[1;36m0\u001b[0m\u001b[1;33m)\u001b[0m\u001b[1;33m)\u001b[0m\u001b[1;33m\u001b[0m\u001b[1;33m\u001b[0m\u001b[0m\n",
      "\u001b[1;31mTypeError\u001b[0m: 'builtin_function_or_method' object does not support item assignment"
     ]
    }
   ],
   "source": [
    "def stocastic_dual_coordinate_ascent(X,y, x_i, y_i):\n",
    "    C = 1000\n",
    "    alpha = np.zeros(ndim)\n",
    "    for j in range(niter):\n",
    "        y_j= y[j]\n",
    "        x_j = X[j,:]\n",
    "        sum = alpha[j] * y_j * np.dot(x_i, x_j)\n",
    "    alpha_i = (1 - y_i * sum) / (np.dot(x_i,x_i))\n",
    "    alpha_i = min(C/mdata, max(alpha_i, 0))\n",
    "    return alpha_i\n",
    "\n",
    "def dual_soft_margin(X,y):\n",
    "    weights = np.zeros(ndim)\n",
    "    for i in range(niter):\n",
    "        y_i = y[i]\n",
    "        x_i = X[i,:]\n",
    "        alpha_i= stocastic_dual_coordinate_ascent(X,y,x_i,y_i)\n",
    "        weights = weights + alpha_i*y_i*x_i\n",
    "    return weights\n",
    "  \n",
    "#w2 = dual_soft_margin(X, y) "
   ]
  },
  {
   "cell_type": "code",
   "execution_count": 59,
   "metadata": {},
   "outputs": [
    {
     "data": {
      "text/plain": [
       "1.0"
      ]
     },
     "execution_count": 59,
     "metadata": {},
     "output_type": "execute_result"
    }
   ],
   "source": [
    "from math import ceil\n",
    "\n",
    "ceil(np.corrcoef(w1,w2)[1,0]*100)/100"
   ]
  }
 ],
 "metadata": {
  "interpreter": {
   "hash": "63fd5069d213b44bf678585dea6b12cceca9941eaf7f819626cde1f2670de90d"
  },
  "kernelspec": {
   "display_name": "Python 3.9.6 64-bit",
   "name": "python3"
  },
  "language_info": {
   "codemirror_mode": {
    "name": "ipython",
    "version": 3
   },
   "file_extension": ".py",
   "mimetype": "text/x-python",
   "name": "python",
   "nbconvert_exporter": "python",
   "pygments_lexer": "ipython3",
   "version": "3.9.6"
  },
  "orig_nbformat": 4
 },
 "nbformat": 4,
 "nbformat_minor": 2
}
