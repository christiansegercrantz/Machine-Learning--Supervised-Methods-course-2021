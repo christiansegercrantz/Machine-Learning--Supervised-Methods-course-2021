{
 "cells": [
  {
   "cell_type": "markdown",
   "metadata": {},
   "source": [
    "# Answers\n",
    "1. (3)\n",
    "2. (2) https://membres-ljk.imag.fr/Roland.Hildebrand/trier_vortrag.pdf\n",
    "3. (2)\n",
    "4. "
   ]
  },
  {
   "cell_type": "code",
   "execution_count": 50,
   "metadata": {},
   "outputs": [
    {
     "name": "stdout",
     "output_type": "stream",
     "text": [
      "(569, 30) (569,)\n"
     ]
    }
   ],
   "source": [
    "## ####################################################\n",
    "import numpy as np\n",
    "from sklearn.datasets import load_breast_cancer\n",
    "\n",
    "# load the data\n",
    "X, y = load_breast_cancer(return_X_y=True)  ## X input, y output\n",
    "print(X.shape, y.shape)\n",
    "## to convert the {0,1} output into {-1,+1}\n",
    "y = 2 * y -1\n",
    "\n",
    "mdata,ndim=X.shape                                   ## size of the data \n",
    "\n",
    "iscale = 1   ## =0 no scaling, =1 scaling the by the maximum absolute value\n",
    "if iscale == 1: \n",
    "  X /= np.outer(np.ones(mdata),np.max(np.abs(X),0))\n",
    "\n",
    "niter = 10 ## number of iteration \n"
   ]
  },
  {
   "cell_type": "code",
   "execution_count": 65,
   "metadata": {},
   "outputs": [],
   "source": [
    "## initialize eta, lambda for the primal algorithm\n",
    "eta=0.1              ##  step size\n",
    "xlambda=0.01          ## balancing constant between loss and regularization\n",
    "\n",
    "w1 = np.zeros(ndim)\n",
    "for i in range(niter):\n",
    "  upDir = y[i]*np.dot(w,X[i])\n",
    "  if upDir < 1:\n",
    "    J = -y[i]*X[i,:]+xlambda*w\n",
    "  else:\n",
    "    J = xlambda*w\n",
    "  w1 -= eta*J"
   ]
  },
  {
   "cell_type": "code",
   "execution_count": 92,
   "metadata": {},
   "outputs": [],
   "source": [
    "## set the penalty constant for the dual algorithm\n",
    "C = 1000\n",
    "\n",
    "alpha = np.zeros(ndim)\n",
    "for i in range(niter):\n",
    "  denominator = np.dot(X[i,:],X[i,:])\n",
    "  nominator = 1\n",
    "  for j in range(niter):\n",
    "    if(i==j):\n",
    "      pass\n",
    "    linKernel = np.dot(X[i,:],X[j,:])\n",
    "    nominator -=y[i]*alpha[j]*y[j] * linKernel\n",
    "    #print(f'y_{i} = {y[i]}, alpha_{j}={alpha[j]}, y_{j}={y[j]}')\n",
    "    #print(f'For iteration i={i}, j={j} the nominator is {nominator}')\n",
    "  alpha[i] = nominator/denominator\n",
    "  #print(f'Pre penalty alpha_{i}: {alpha[i]}')\n",
    "  alpha[i] = min(C/mdata, max(0, alpha[i]))\n",
    "  #print(f'Post penalty alpha_{i}: {alpha[i]}')\n",
    "\n",
    "  \n",
    "w2 = sum(alpha[i]*y[i]*X[i,:] for i in range(ndim))"
   ]
  },
  {
   "cell_type": "code",
   "execution_count": 93,
   "metadata": {},
   "outputs": [
    {
     "data": {
      "text/plain": [
       "0.84"
      ]
     },
     "execution_count": 93,
     "metadata": {},
     "output_type": "execute_result"
    }
   ],
   "source": [
    "from math import ceil\n",
    "\n",
    "ceil(np.corrcoef(w1,w2)[1,0]*100)/100 "
   ]
  }
 ],
 "metadata": {
  "interpreter": {
   "hash": "63fd5069d213b44bf678585dea6b12cceca9941eaf7f819626cde1f2670de90d"
  },
  "kernelspec": {
   "display_name": "Python 3.9.6 64-bit",
   "name": "python3"
  },
  "language_info": {
   "codemirror_mode": {
    "name": "ipython",
    "version": 3
   },
   "file_extension": ".py",
   "mimetype": "text/x-python",
   "name": "python",
   "nbconvert_exporter": "python",
   "pygments_lexer": "ipython3",
   "version": "3.9.6"
  },
  "orig_nbformat": 4
 },
 "nbformat": 4,
 "nbformat_minor": 2
}
