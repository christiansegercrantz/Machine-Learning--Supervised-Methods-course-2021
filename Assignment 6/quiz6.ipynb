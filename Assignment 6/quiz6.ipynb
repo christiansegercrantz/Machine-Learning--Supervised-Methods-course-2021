{
 "cells": [
  {
   "cell_type": "markdown",
   "metadata": {},
   "source": [
    "# Answers\n",
    "1. (c)\n",
    "2. (b)\n",
    "3. (a),(c)\n",
    "4. (a)\n",
    "5. (b)"
   ]
  },
  {
   "cell_type": "code",
   "execution_count": 2,
   "metadata": {},
   "outputs": [
    {
     "data": {
      "text/plain": [
       "4"
      ]
     },
     "execution_count": 2,
     "metadata": {},
     "output_type": "execute_result"
    }
   ],
   "source": [
    "#3\n",
    "import math\n",
    "math.ceil(math.log(10,2))"
   ]
  },
  {
   "cell_type": "code",
   "execution_count": 1,
   "metadata": {},
   "outputs": [
    {
     "name": "stdout",
     "output_type": "stream",
     "text": [
      "data shapes: (569, 30) (569,) [0 1]\n",
      "SVM accuracy using no scaler: 89.7 %\n",
      "SVM accuracy using Centering : 90.9 %\n",
      "SVM accuracy using Standard : 94.7 %\n",
      "SVM accuracy using MinMax : 93.7 %\n",
      "SVM accuracy using Normalizer : 93.1 %\n"
     ]
    },
    {
     "name": "stderr",
     "output_type": "stream",
     "text": [
      "C:\\Python39\\lib\\site-packages\\sklearn\\svm\\_base.py:1206: ConvergenceWarning: Liblinear failed to converge, increase the number of iterations.\n",
      "  warnings.warn(\n",
      "C:\\Python39\\lib\\site-packages\\sklearn\\svm\\_base.py:1206: ConvergenceWarning: Liblinear failed to converge, increase the number of iterations.\n",
      "  warnings.warn(\n"
     ]
    }
   ],
   "source": [
    "import numpy as np\n",
    "from sklearn.datasets import load_breast_cancer\n",
    "from sklearn.svm import LinearSVC\n",
    "from sklearn.metrics import accuracy_score\n",
    "\n",
    "\"\"\"\n",
    "More info about the attributes in the dataset:\n",
    "https://scikit-learn.org/stable/datasets/toy_dataset.html#breast-cancer-wisconsin-diagnostic-dataset\n",
    "\"\"\"\n",
    "\n",
    "X, y = load_breast_cancer(return_X_y=True)\n",
    "print(\"data shapes:\", X.shape, y.shape, np.unique(y))\n",
    "\n",
    "#print(X[0:5,0:2])\n",
    "\n",
    "# divide into training and testing\n",
    "np.random.seed(42)\n",
    "order = np.random.permutation(len(y))\n",
    "tr = np.sort(order[:250])\n",
    "tst = np.sort(order[250:])\n",
    "\n",
    "svm = LinearSVC(fit_intercept=False, random_state=2)\n",
    "svm.fit(X[tr, :], y[tr])\n",
    "preds = svm.predict(X[tst, :])\n",
    "print(\"SVM accuracy using no scaler:\", np.round(100*accuracy_score(y[tst], preds), 1), \"%\")\n",
    "\n",
    "from sklearn.preprocessing import scale as centering\n",
    "from sklearn.preprocessing import StandardScaler\n",
    "from sklearn.preprocessing import MinMaxScaler\n",
    "from sklearn.preprocessing import Normalizer\n",
    "\n",
    "scalers = [(StandardScaler(with_std=False), \"Centering\"),\n",
    "           (StandardScaler(), \"Standard\"),\n",
    "           (MinMaxScaler(), \"MinMax\"),\n",
    "           (Normalizer(), \"Normalizer\")]\n",
    "for scaler, scaler_name in scalers:\n",
    "  X = scaler.fit_transform(X)\n",
    "  #print(X[0:5,0:2])\n",
    "  # divide into training and testing\n",
    "  np.random.seed(42)\n",
    "  order = np.random.permutation(len(y))\n",
    "  tr = np.sort(order[:250])\n",
    "  tst = np.sort(order[250:])\n",
    "\n",
    "  svm = LinearSVC(fit_intercept=False, random_state=2)\n",
    "  svm.fit(X[tr, :], y[tr])\n",
    "  preds = svm.predict(X[tst, :])\n",
    "  print(\"SVM accuracy using\",scaler_name,\":\", np.round(100*accuracy_score(y[tst], preds), 1), \"%\")\n"
   ]
  },
  {
   "cell_type": "code",
   "execution_count": 2,
   "metadata": {},
   "outputs": [],
   "source": [
    "import numpy as np\n",
    "import matplotlib.pyplot as plt\n",
    "from sklearn.metrics import accuracy_score\n",
    "# the data\n",
    "from sklearn.datasets import make_blobs\n",
    "# linear models\n",
    "from sklearn.linear_model import Perceptron, LinearRegression\n",
    "# multi-class models\n",
    "from sklearn.multiclass import OneVsOneClassifier, OneVsRestClassifier, OutputCodeClassifier\n",
    "\n",
    "# Create the dataset\n",
    "C = 4\n",
    "n = 800\n",
    "X, y = make_blobs(n, centers=C, random_state=0)\n",
    "\n",
    "np.random.seed(0)\n",
    "order = np.random.permutation(n)\n",
    "tr = order[:int(n/2)]\n",
    "tst = order[int(n/2):]\n",
    "\n",
    "Xt = X[tst, :]\n",
    "yt = y[tst]\n",
    "X = X[tr, :]\n",
    "y = y[tr]"
   ]
  },
  {
   "cell_type": "code",
   "execution_count": 3,
   "metadata": {},
   "outputs": [
    {
     "name": "stdout",
     "output_type": "stream",
     "text": [
      "Accuracy using OVO: 92.2 %\n",
      "Accuracy using OVA: 75.8 %\n",
      "Accuracy using ECOC: 63.0 %\n"
     ]
    }
   ],
   "source": [
    "# use perceptron with default parameters as the base classifier for the multi-class methods\n",
    "linear_classifier = Perceptron()\n",
    "from sklearn.multiclass import OneVsOneClassifier, OneVsRestClassifier, OutputCodeClassifier\n",
    "clfs = [(OneVsOneClassifier(linear_classifier), \"OVO\"),\n",
    "        (OneVsRestClassifier(linear_classifier), \"OVA\"),\n",
    "        (OutputCodeClassifier(linear_classifier,random_state=42),\"ECOC\")]\n",
    "for clf, name in clfs:\n",
    "  clf.fit(X, y)\n",
    "  preds = clf.predict(Xt)\n",
    "  print(\"Accuracy using\", name + \":\", np.round(100*accuracy_score(yt, preds), 1), \"%\")"
   ]
  },
  {
   "cell_type": "code",
   "execution_count": 19,
   "metadata": {},
   "outputs": [
    {
     "name": "stdout",
     "output_type": "stream",
     "text": [
      "The coefficient is 2.0\n"
     ]
    }
   ],
   "source": [
    "linear_classifier = Perceptron()\n",
    "code_size = np.arange(0.3, 4.1, 0.1)\n",
    "ecoc_accuracy = []\n",
    "lengths = []\n",
    "for size in code_size:\n",
    "  clf = OutputCodeClassifier(linear_classifier, random_state=42, code_size=size)\n",
    "  clf.fit(X, y)\n",
    "  lengths.append(clf.code_book_.shape[1])\n",
    "  preds = clf.predict(Xt)\n",
    "  ecoc_accuracy.append(100*accuracy_score(yt, preds))\n",
    "lin_clf = LinearRegression()\n",
    "lin_clf.fit(np.array(lengths).reshape(-1,1),ecoc_accuracy)\n",
    "print(\"The coefficient is\",round(lin_clf.coef_[0], 1))"
   ]
  },
  {
   "cell_type": "code",
   "execution_count": null,
   "metadata": {},
   "outputs": [
    {
     "data": {
      "text/plain": [
       "[<matplotlib.lines.Line2D at 0x1690d4bb940>]"
      ]
     },
     "execution_count": 50,
     "metadata": {},
     "output_type": "execute_result"
    },
    {
     "data": {
      "image/png": "[encoded data removed]",
      "text/plain": [
       "<Figure size 432x288 with 1 Axes>"
      ]
     },
     "metadata": {
      "needs_background": "light"
     },
     "output_type": "display_data"
    }
   ],
   "source": [
    "import matplotlib.pyplot as plt\n",
    "plt.scatter(code_size.reshape(-1,1),ecoc_accuracy)\n",
    "plt.plot(code_size.reshape(-1,1),lin_clf.predict(code_size.reshape(-1,1)), linewidth=3)"
   ]
  }
 ],
 "metadata": {
  "interpreter": {
   "hash": "d34d775e0b9bc5d91568c306d60d41b4e8ee7ef0deff665e67f27664ff2ef059"
  },
  "kernelspec": {
   "display_name": "Python 3.9.5 64-bit (conda)",
   "language": "python",
   "name": "python3"
  },
  "language_info": {
   "codemirror_mode": {
    "name": "ipython",
    "version": 3
   },
   "file_extension": ".py",
   "mimetype": "text/x-python",
   "name": "python",
   "nbconvert_exporter": "python",
   "pygments_lexer": "ipython3",
   "version": "3.9.6"
  },
  "orig_nbformat": 4
 },
 "nbformat": 4,
 "nbformat_minor": 2
}
